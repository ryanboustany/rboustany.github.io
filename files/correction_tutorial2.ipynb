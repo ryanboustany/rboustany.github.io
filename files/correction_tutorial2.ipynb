{
 "cells": [
  {
   "cell_type": "markdown",
   "metadata": {
    "id": "j4LR4_-jrAul"
   },
   "source": [
    "# **Optimization for Deep learning**\n",
    "\n",
    "**Author** : Ryan BOUSTANY\n",
    "\n",
    "**Session 2:**\n",
    "- Build perceptron with Pytorch\n",
    "- Build a neural network with Pytorch\n",
    "- Train a perceptron and neural network with mini-batch gradient descent"
   ]
  },
  {
   "cell_type": "code",
   "execution_count": 1,
   "metadata": {},
   "outputs": [],
   "source": [
    "import torch\n",
    "import torch.nn as nn  # neural networks module\n",
    "import torch.nn.functional as F # activation functions\n",
    "from torch.utils.data import Dataset, DataLoader\n",
    "import random\n",
    "\n",
    "import torchvision\n",
    "import torchvision.transforms as transforms\n",
    "\n",
    "import torch.optim as optim\n",
    "\n",
    "\n",
    "import numpy as np\n",
    "import matplotlib.pyplot as plt"
   ]
  },
  {
   "cell_type": "markdown",
   "metadata": {},
   "source": [
    "## **Build and train a perceptron with Pytorch**\n",
    "\n",
    "A simple perceptron is a binary classifier that maps an input vector $ \\mathbf{x} $ to an output $ f(\\mathbf{x}) $ through a linear prediction function followed by an activation function.\n",
    "The output $ f(\\mathbf{x}) $ of the perceptron is calculated as:\n",
    "\\begin{align*}\n",
    "f(\\mathbf{x}) = \\text{activation} \\left( \\mathbf{w} \\cdot \\mathbf{x} + b \\right),\n",
    "\\end{align*}\n",
    "where $ \\mathbf{w} $ is the weight vector, $ b $ is the bias term, $ \\cdot $ denotes the dot product, and $\\text{activation}()$ is an activation function such as the step function or the sigmoid function.\n",
    "\n",
    "A commonly used loss function for the simple perceptron is the Binary Cross-Entropy loss, defined as:\n",
    "\\begin{align*}\n",
    "L(w, b) = -\\frac{1}{N} \\sum_{i=1}^{N} \\left[ y_i \\log(f(\\mathbf{x}_i)) + (1 - y_i) \\log(1 - f(\\mathbf{x}_i)) \\right],\n",
    "\\end{align*}\n",
    "where $ N $ is the number of samples, $ y_i $ is the true label of the $ i $-th sample, and $ f(\\mathbf{x}_i) $ is the predicted label.\n",
    "\n",
    "The goal of the learning process is to find the optimal parameters $ \\mathbf{w} $ and $ b $ that minimize the loss function $ L $. This is commonly achieved using gradient descent.\n",
    "\n",
    "The update rules for the weights and bias in each iteration $ t $ are:\n",
    "\\begin{align*}\n",
    "&\\mathbf{w}_{t+1} = \\mathbf{w}_{t} - \\eta \\nabla_{\\mathbf{w}} L,\n",
    "&b_{t+1} = b_{t} - \\eta \\nabla_{b} L,\n",
    "\\end{align*}\n",
    "where $ \\eta $ is the learning rate, and $ \\nabla_{\\mathbf{w}} L $ and $ \\nabla_{b} L $ are the gradients of the loss function with respect to $ \\mathbf{w} $ and $ b $ respectively.\n"
   ]
  },
  {
   "cell_type": "markdown",
   "metadata": {},
   "source": [
    "### Implemetation and training from scratch "
   ]
  },
  {
   "cell_type": "code",
   "execution_count": 2,
   "metadata": {},
   "outputs": [],
   "source": [
    "# Importing the torch library for basic tensor operations\n",
    "import torch\n",
    "\n",
    "# Hyperparameters\n",
    "num_samples = 1000\n",
    "input_dim = 2\n",
    "learning_rate = 0.1\n",
    "epochs = 1000\n",
    "\n",
    "# Initialize weights and bias randomly\n",
    "weights = torch.randn(input_dim, 1, requires_grad=True)\n",
    "bias = torch.randn(1, requires_grad=True)\n",
    "# Create synthetic dataset\n",
    "X_data = torch.tensor([[random.randint(0, 1), random.randint(0, 1)] for _ in range(num_samples)], dtype=torch.float32)\n",
    "y_data = torch.tensor([[x[0] * x[1]] for x in X_data], dtype=torch.float32)\n",
    "\n",
    "\n",
    "# Binary Cross-Entropy Loss Function\n",
    "def binary_cross_entropy(y_pred, y_true):\n",
    "    return -torch.mean(y_true * torch.log(y_pred) + (1 - y_true) * torch.log(1 - y_pred)) ## TO DO"
   ]
  },
  {
   "cell_type": "code",
   "execution_count": 3,
   "metadata": {},
   "outputs": [
    {
     "name": "stdout",
     "output_type": "stream",
     "text": [
      "Epoch [100/1000], Loss: 0.3587\n",
      "Epoch [200/1000], Loss: 0.2982\n",
      "Epoch [300/1000], Loss: 0.2567\n",
      "Epoch [400/1000], Loss: 0.2260\n",
      "Epoch [500/1000], Loss: 0.2021\n",
      "Epoch [600/1000], Loss: 0.1829\n",
      "Epoch [700/1000], Loss: 0.1670\n",
      "Epoch [800/1000], Loss: 0.1537\n",
      "Epoch [900/1000], Loss: 0.1424\n",
      "Epoch [1000/1000], Loss: 0.1325\n"
     ]
    }
   ],
   "source": [
    "# Training loop\n",
    "for epoch in range(epochs):\n",
    "    # Forward pass\n",
    "    linear_output = torch.mm(X_data, weights) + bias ## TO DO\n",
    "    y_pred = torch.sigmoid(linear_output) ## TO DO\n",
    "    \n",
    "    # Compute loss\n",
    "    loss = binary_cross_entropy(y_pred, y_data)\n",
    "    \n",
    "    # Backward pass and optimization\n",
    "    loss.backward()\n",
    "    \n",
    "    # Manual update of weights and bias\n",
    "    with torch.no_grad():\n",
    "        weights -= learning_rate * weights.grad ## TODO\n",
    "        bias -= learning_rate * bias.grad ## TODO\n",
    "        \n",
    "        # Clear previous gradients\n",
    "        weights.grad.zero_()\n",
    "        bias.grad.zero_()\n",
    "    \n",
    "    if (epoch + 1) % 100 == 0:\n",
    "        print(f'Epoch [{epoch+1}/{epochs}], Loss: {loss.item():.4f}')\n"
   ]
  },
  {
   "cell_type": "code",
   "execution_count": 4,
   "metadata": {},
   "outputs": [
    {
     "name": "stdout",
     "output_type": "stream",
     "text": [
      "Test Accuracy on the small test dataset: 100.00%\n"
     ]
    }
   ],
   "source": [
    "# Test the model on the original small dataset for accuracy\n",
    "def calculate_accuracy(y_pred, y_true):\n",
    "    predicted_classes = (y_pred > 0.5).float()\n",
    "    correct = (predicted_classes == y_true).float().sum()\n",
    "    accuracy = correct / y_true.shape[0]\n",
    "    return accuracy * 100\n",
    "\n",
    "with torch.no_grad():\n",
    "    test_data = torch.tensor([[0, 0], [0, 1], [1, 0], [1, 1]], dtype=torch.float32)\n",
    "    y_true = torch.tensor([[0], [0], [0], [1]], dtype=torch.float32)\n",
    "    \n",
    "    linear_output = torch.mm(test_data, weights) + bias\n",
    "    y_pred = torch.sigmoid(linear_output)\n",
    "    \n",
    "    test_accuracy = calculate_accuracy(y_pred, y_true)\n",
    "    \n",
    "print(f'Test Accuracy on the small test dataset: {test_accuracy.item():.2f}%')\n"
   ]
  },
  {
   "cell_type": "markdown",
   "metadata": {},
   "source": [
    "### Implemetation and training using Pytorch functions "
   ]
  },
  {
   "cell_type": "code",
   "execution_count": 5,
   "metadata": {},
   "outputs": [
    {
     "name": "stdout",
     "output_type": "stream",
     "text": [
      "Epoch [100/1000], Loss: 0.5623\n",
      "Epoch [200/1000], Loss: 0.4188\n",
      "Epoch [300/1000], Loss: 0.3372\n",
      "Epoch [400/1000], Loss: 0.2843\n",
      "Epoch [500/1000], Loss: 0.2468\n",
      "Epoch [600/1000], Loss: 0.2185\n",
      "Epoch [700/1000], Loss: 0.1962\n",
      "Epoch [800/1000], Loss: 0.1781\n",
      "Epoch [900/1000], Loss: 0.1631\n",
      "Epoch [1000/1000], Loss: 0.1504\n"
     ]
    }
   ],
   "source": [
    "# Defining the Simple Perceptron class using PyTorch\n",
    "class SimplePerceptron(nn.Module):\n",
    "    def __init__(self, input_dim):\n",
    "        super(SimplePerceptron, self).__init__()\n",
    "        self.fc = nn.Linear(input_dim, 1)  # Single-layer perceptron with one output unit\n",
    "    \n",
    "    def forward(self, x):\n",
    "        output = self.fc(x)\n",
    "        return torch.sigmoid(output)  # Using sigmoid activation function\n",
    "\n",
    "# Hyperparameters\n",
    "input_dim = 2  # Dimensionality of the input\n",
    "learning_rate = 0.1\n",
    "epochs = 1000\n",
    "\n",
    "# Create synthetic dataset (AND operation)\n",
    "X_data = torch.tensor([[0, 0], [0, 1], [1, 0], [1, 1]], dtype=torch.float32)\n",
    "y_data = torch.tensor([[0], [0], [0], [1]], dtype=torch.float32)\n",
    "\n",
    "# Initialize the perceptron\n",
    "model = SimplePerceptron(input_dim)\n",
    "\n",
    "# Loss and optimizer\n",
    "criterion = nn.BCELoss()  # Binary Cross-Entropy Loss\n",
    "optimizer = optim.SGD(model.parameters(), lr=learning_rate)\n",
    "\n",
    "# Training loop\n",
    "for epoch in range(epochs):\n",
    "    # Forward pass\n",
    "    outputs = model(X_data)\n",
    "    loss = criterion(outputs, y_data)\n",
    "    \n",
    "    # Backward pass and optimization\n",
    "    optimizer.zero_grad()\n",
    "    loss.backward()\n",
    "    optimizer.step()\n",
    "    \n",
    "    if (epoch + 1) % 100 == 0:\n",
    "        print(f'Epoch [{epoch+1}/{epochs}], Loss: {loss.item():.4f}')"
   ]
  },
  {
   "cell_type": "code",
   "execution_count": 6,
   "metadata": {},
   "outputs": [
    {
     "name": "stdout",
     "output_type": "stream",
     "text": [
      "Test Accuracy on the small test dataset: 100.00%\n"
     ]
    }
   ],
   "source": [
    "with torch.no_grad():\n",
    "    test_data = torch.tensor([[0, 0], [0, 1], [1, 0], [1, 1]], dtype=torch.float32)\n",
    "    y_true = torch.tensor([[0], [0], [0], [1]], dtype=torch.float32)\n",
    "    \n",
    "    linear_output = torch.mm(test_data, weights) + bias\n",
    "    y_pred = torch.sigmoid(linear_output)\n",
    "    \n",
    "    test_accuracy = calculate_accuracy(y_pred, y_true)\n",
    "    \n",
    "print(f'Test Accuracy on the small test dataset: {test_accuracy.item():.2f}%')"
   ]
  },
  {
   "cell_type": "markdown",
   "metadata": {},
   "source": [
    "## **Neural Network for MNIST Classification with Pytorch (to go beyond)**\n",
    "\n",
    "We introduce a simple neural network designed to classify handwritten digits from the MNIST dataset. We will cover the architecture of the neural network, the Stochastic Gradient Descent (SGD) optimization technique, and the MNIST dataset itself.\n",
    "\n",
    "### MNIST Dataset\n",
    "\n",
    "The MNIST dataset consists of 60,000 training images and 10,000 test images. Each image is a grayscale 28x28 pixel representation of a handwritten digit between 0 and 9. The dataset is often used for educational purposes as a starting point for image classification tasks.\n",
    "\n",
    "### Neural Network Architecture\n",
    "\n",
    "#### Mathematical Formulation\n",
    "\n",
    "The neural network consists of an input layer, one hidden layer, and an output layer. The forward pass is mathematically described as:\n",
    "\n",
    "\n",
    "$$\n",
    "\\begin{aligned}\n",
    "\\text{Input Layer:} \\quad & \\mathbf{x} \\in \\mathbb{R}^{784} \\\\\n",
    "\\text{Hidden Layer:} \\quad & \\mathbf{h} = \\text{ReLU}(\\mathbf{W}_1 \\mathbf{x} + \\mathbf{b}_1) \\\\\n",
    "\\text{Output Layer:} \\quad & \\mathbf{o} = \\mathbf{W}_2 \\mathbf{h} + \\mathbf{b}_2 \\\\\n",
    "\\text{Softmax:} \\quad & \\mathbf{p} = \\text{Softmax}(\\mathbf{o}) \\in \\mathbb{R}^{10} \\text{ (10 because digit between 0 and 9)}\n",
    "\\end{aligned}\n",
    "$$\n",
    "\n",
    "where $ \\mathbf{W}_1 $, $ \\mathbf{W}_2 $, $ \\mathbf{b}_1 $, and $ \\mathbf{b}_2 $ are learnable parameters of the network.\n",
    "\n",
    "#### Parameters\n",
    "\n",
    "- $ \\mathbf{W}_1 $ : Weight matrix for the input to hidden layer transformation\n",
    "- $ \\mathbf{b}_1 $ : Bias vector for the hidden layer\n",
    "- $ \\mathbf{W}_2 $ : Weight matrix for the hidden to output layer transformation\n",
    "- $ \\mathbf{b}_2 $ : Bias vector for the output layer\n",
    "\n",
    "#### Loss function \n",
    "\n",
    "The loss function used for this problem is the cross-entropy loss, described as:\n",
    "\n",
    "\\begin{align*}\n",
    "L(\\theta) = - \\frac{1}{N} \\sum_{i=1}^{N} \\sum_{j=1}^{C} y_{ij} \\log(p_{ij})\n",
    "\\end{align*}\n",
    "\n",
    "where $N$ is the number of samples, $C$ is the number of classes (here 10 because we predict digit between 0 and 9 ), $y_{ij}$ is the true label, and $p_{ij}$ is the predicted probability.\n",
    "\n",
    "\n",
    "### Stochastic Gradient Descent (SGD)\n",
    "\n",
    "#### Update Rules\n",
    "\n",
    "The optimization problem aims to minimize a loss function $ L(\\theta) $ where $ \\theta $ represents the network parameters. The update rule for each parameter $ \\theta_i $ in SGD is:\n",
    "\n",
    "$$\n",
    "\\theta_i^{(t+1)} = \\theta_i^{(t)} - \\eta \\nabla_{\\theta_i} L\n",
    "$$\n",
    "\n",
    "Where $ \\eta $ is the learning rate and $ \\nabla_{\\theta_i} L $ is the gradient of the loss with respect to $ \\theta_i $.\n"
   ]
  },
  {
   "cell_type": "code",
   "execution_count": 9,
   "metadata": {},
   "outputs": [
    {
     "name": "stdout",
     "output_type": "stream",
     "text": [
      "Epoch [1/10], Average Loss: 2.2670\n",
      "Epoch [2/10], Average Loss: 2.1823\n",
      "Epoch [3/10], Average Loss: 2.0611\n",
      "Epoch [4/10], Average Loss: 1.8964\n",
      "Epoch [5/10], Average Loss: 1.6808\n",
      "Epoch [6/10], Average Loss: 1.4307\n",
      "Epoch [7/10], Average Loss: 1.1919\n",
      "Epoch [8/10], Average Loss: 0.9994\n",
      "Epoch [9/10], Average Loss: 0.8572\n",
      "Epoch [10/10], Average Loss: 0.7547\n"
     ]
    }
   ],
   "source": [
    "# Hyperparameters\n",
    "batch_size = 128\n",
    "learning_rate = 0.001\n",
    "epochs = 10\n",
    "\n",
    "# Loading MNIST dataset\n",
    "transform = transforms.Compose([transforms.ToTensor(), transforms.Normalize((0.5,), (0.5,))])\n",
    "\n",
    "train_dataset = torchvision.datasets.MNIST(root='./data', train=True, download=True, transform=transform)\n",
    "train_loader = torch.utils.data.DataLoader(train_dataset, batch_size=batch_size, shuffle=True)\n",
    "\n",
    "test_dataset = torchvision.datasets.MNIST(root='./data', train=False, download=True, transform=transform)\n",
    "test_loader = torch.utils.data.DataLoader(test_dataset, batch_size=batch_size, shuffle=False)\n",
    "\n",
    "# Neural Network model\n",
    "class NeuralNetwork(nn.Module):\n",
    "    def __init__(self):\n",
    "        super(NeuralNetwork, self).__init__()\n",
    "        self.fc1 = nn.Linear(28 * 28, 128)\n",
    "        self.fc2 = nn.Linear(128, 64)\n",
    "        self.fc3 = nn.Linear(64, 10)\n",
    "    \n",
    "    def forward(self, x):\n",
    "        x = x.view(-1, 28 * 28)\n",
    "        x = nn.functional.relu(self.fc1(x))\n",
    "        x = nn.functional.relu(self.fc2(x))\n",
    "        x = self.fc3(x)\n",
    "        return nn.functional.log_softmax(x, dim=1)\n",
    "\n",
    "# Initialize the model, loss, and optimizer\n",
    "model = NeuralNetwork()\n",
    "criterion = nn.CrossEntropyLoss() # loss function Cross entropy\n",
    "optimizer = optim.SGD(model.parameters(), lr=learning_rate)  # use SGD optimizer \n",
    "\n",
    "\n",
    "train_loss_list = []\n",
    "\n",
    "# Training loop\n",
    "for epoch in range(epochs):\n",
    "    epoch_loss = 0\n",
    "    for i, (images, labels) in enumerate(train_loader):\n",
    "        # Forward pass\n",
    "        outputs = model(images)\n",
    "        loss = criterion(outputs, labels)\n",
    "        \n",
    "        # Backward pass and optimization\n",
    "        optimizer.zero_grad()\n",
    "        loss.backward()\n",
    "        optimizer.step()\n",
    "\n",
    "        epoch_loss += loss.item()\n",
    "        \n",
    "    # Calculate average epoch loss\n",
    "    average_epoch_loss = epoch_loss / len(train_loader)\n",
    "    train_loss_list.append(average_epoch_loss)\n",
    "\n",
    "        \n",
    "    if (epoch + 1) % 1 == 0:\n",
    "        print(f'Epoch [{epoch+1}/{epochs}], Average Loss: {average_epoch_loss:.4f}')\n",
    "\n"
   ]
  },
  {
   "cell_type": "code",
   "execution_count": 10,
   "metadata": {},
   "outputs": [
    {
     "name": "stdout",
     "output_type": "stream",
     "text": [
      "Test Accuracy on the MNIST test dataset: 82.96%\n"
     ]
    }
   ],
   "source": [
    "# Test the model\n",
    "model.eval()\n",
    "correct = 0\n",
    "total = 0\n",
    "\n",
    "with torch.no_grad():\n",
    "    for images, labels in test_loader:\n",
    "        outputs = model(images)\n",
    "        _, predicted = torch.max(outputs.data, 1)\n",
    "        total += labels.size(0)\n",
    "        correct += (predicted == labels).sum().item()\n",
    "\n",
    "test_accuracy = 100 * correct / total\n",
    "print(f'Test Accuracy on the MNIST test dataset: {test_accuracy:.2f}%')"
   ]
  },
  {
   "cell_type": "markdown",
   "metadata": {},
   "source": [
    "**Question 1.** Test performance of the newtork with 1,10 epochs and look at the test accuracy ? Comments."
   ]
  },
  {
   "cell_type": "markdown",
   "metadata": {},
   "source": [
    "**Question 2.** Plot the train loss."
   ]
  },
  {
   "cell_type": "code",
   "execution_count": 11,
   "metadata": {},
   "outputs": [
    {
     "data": {
      "image/png": "[encoded data removed]",
      "text/plain": [
       "<Figure size 700x300 with 1 Axes>"
      ]
     },
     "metadata": {},
     "output_type": "display_data"
    }
   ],
   "source": [
    "# Plotting the training loss\n",
    "plt.figure(figsize=(7, 3))\n",
    "plt.plot(range(1, epochs + 1), train_loss_list, label='Training Loss') ## TO DO\n",
    "plt.xlabel('Epoch')\n",
    "plt.ylabel('Average Loss')\n",
    "plt.title('Training Loss vs Epoch')\n",
    "plt.legend()\n",
    "plt.show()"
   ]
  },
  {
   "cell_type": "markdown",
   "metadata": {},
   "source": [
    "Congrats ! This is your first neural network training"
   ]
  }
 ],
 "metadata": {
  "colab": {
   "provenance": []
  },
  "kernelspec": {
   "display_name": "Python 3",
   "language": "python",
   "name": "python3"
  },
  "language_info": {
   "codemirror_mode": {
    "name": "ipython",
    "version": 3
   },
   "file_extension": ".py",
   "mimetype": "text/x-python",
   "name": "python",
   "nbconvert_exporter": "python",
   "pygments_lexer": "ipython3",
   "version": "3.11.4"
  }
 },
 "nbformat": 4,
 "nbformat_minor": 4
}
